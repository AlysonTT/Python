{
 "cells": [
  {
   "cell_type": "code",
   "execution_count": 3,
   "metadata": {},
   "outputs": [
    {
     "name": "stdout",
     "output_type": "stream",
     "text": [
      "Source: ArxivDocument-Co-Auteur : Co-Auteur Arxiv\t# titre : Titre Arxiv\n",
      "Source: RedditDocument-Auteur : Auteur Reddit\t# titre : Titre Reddit\t# nombres de commentaires : 10\n"
     ]
    }
   ],
   "source": [
    "# Classes et fonctions nécessaires\n",
    "from Corpus import Corpus\n",
    "from Classes_filles import RedditDocument, ArxivDocument\n",
    "from DesignPattern import DocumentFactory\n",
    "\n",
    "# Crée une instance de Corpus\n",
    "corpus = Corpus(nom=\"Mon Corpus\")\n",
    "\n",
    "# Crée des instances de documents\n",
    "reddit_doc = RedditDocument(titre=\"Titre Reddit\", auteur=\"Auteur Reddit\", nb_com=10)\n",
    "arxiv_doc = ArxivDocument(titre=\"Titre Arxiv\", auteur=\"Auteur Arxiv\", co_auteurs=\"Co-Auteur Arxiv\")\n",
    "\n",
    "# Ajoutez les documents au corpus\n",
    "corpus.add(reddit_doc)\n",
    "corpus.add(arxiv_doc)\n",
    "\n",
    "# Affichez les documents du corpus\n",
    "#corpus.show()\n",
    "\n",
    "print(corpus)"
   ]
  },
  {
   "cell_type": "markdown",
   "metadata": {},
   "source": [
    "TEXTE"
   ]
  },
  {
   "cell_type": "code",
   "execution_count": 10,
   "metadata": {},
   "outputs": [
    {
     "data": {
      "application/vnd.jupyter.widget-view+json": {
       "model_id": "6cc95363d4a9474db4aa0e460c41ebea",
       "version_major": 2,
       "version_minor": 0
      },
      "text/plain": [
       "IntSlider(value=0)"
      ]
     },
     "metadata": {},
     "output_type": "display_data"
    },
    {
     "data": {
      "application/vnd.jupyter.widget-view+json": {
       "model_id": "8a216c7f0eb1425d8520de05751dae5d",
       "version_major": 2,
       "version_minor": 0
      },
      "text/plain": [
       "Text(value='Hello World!', disabled=True)"
      ]
     },
     "execution_count": 10,
     "metadata": {},
     "output_type": "execute_result"
    }
   ],
   "source": [
    "import ipywidgets as widgets\n",
    "\n",
    "widgets.IntSlider()\n",
    "\n",
    "from IPython.display import display\n",
    "\n",
    "w = widgets.IntSlider()\n",
    "display(w)\n",
    "w.value\n",
    "w.value = 100\n",
    "w.keys\n",
    "widgets.Text(value='Hello World!', disabled=True)\n",
    "#w.close()"
   ]
  },
  {
   "cell_type": "code",
   "execution_count": 11,
   "metadata": {},
   "outputs": [
    {
     "data": {
      "application/vnd.jupyter.widget-view+json": {
       "model_id": "6e847b0759d740cfa0a4d2ce4c6818ec",
       "version_major": 2,
       "version_minor": 0
      },
      "text/plain": [
       "VBox(children=(Text(value='python', description='Mot-clé :'), IntSlider(value=10, description=\"Nombre d'articl…"
      ]
     },
     "metadata": {},
     "output_type": "display_data"
    }
   ],
   "source": [
    "# Formulaire interactif\n",
    "keyword_input = widgets.Text(description=\"Mot-clé :\", value=\"python\")\n",
    "num_articles_input = widgets.IntSlider(description=\"Nombre d'articles :\", min=1, max=100, value=10)\n",
    "analyze_button = widgets.Button(description=\"Analyser\")\n",
    "output = widgets.Output()\n",
    "\n",
    "# Fonction à appeler lorsqu'on clique sur le bouton\n",
    "def on_analyze_button_click(b):\n",
    "    with output:\n",
    "        clear_output(wait=True)  # Efface la sortie précédente\n",
    "        keyword = keyword_input.value\n",
    "        num_articles = num_articles_input.value\n",
    "        # Ajoutez ici le code pour utiliser le mot-clé et le nombre d'articles\n",
    "        print(f\"Mot-clé : {keyword}, Nombre d'articles : {num_articles}\")\n",
    "        \n",
    "# Associer la fonction à l'événement de clic du bouton\n",
    "analyze_button.on_click(on_analyze_button_click)\n",
    "\n",
    "# Affichage du formulaire\n",
    "display(widgets.VBox([keyword_input, num_articles_input, analyze_button, output]))\n"
   ]
  }
 ],
 "metadata": {
  "kernelspec": {
   "display_name": "Python",
   "language": "python",
   "name": "python3"
  },
  "language_info": {
   "codemirror_mode": {
    "name": "ipython",
    "version": 3
   },
   "file_extension": ".py",
   "mimetype": "text/x-python",
   "name": "python",
   "nbconvert_exporter": "python",
   "pygments_lexer": "ipython3",
   "version": "3.11.5"
  }
 },
 "nbformat": 4,
 "nbformat_minor": 2
}
